{
 "cells": [
  {
   "cell_type": "markdown",
   "metadata": {},
   "source": [
    "# Building your first AzureML web service using Python \n",
    "\n",
    "This tutorial demonstrates how to deploy a machine learning model built using Python and scikit-learn. Before running the tutorial, your DSVM must be configured as specified in the README in the [Spark-Operationalization-On-Azure](https://github.com/Azure/Spark-Operationalization-On-Azure).\n",
    "\n",
    "The tutorial uses the digits dataset that is part of the [scikit-learn distribution](http://scikit-learn.org/stable/tutorial/basic/tutorial.html).\n",
    "\n",
    "In the tutorial, you will load a dataset, train a model on the dataset, and then publish a\n",
    "realtime scoring API for the model.\n",
    "\n",
    "To complete this tutorial:\n",
    "\n",
    "* Sign in to your DSVM.\n",
    "* Change folders to the notebooks > azureml.\n",
    "* Create a new folder named python.\n",
    "* Copy this notebook to the python folder.\n",
    "* In a browser, open https://&lt;your dsvs ip address&gt;:8000 and sign into the Jupyter server.\n",
    "* Navigate to the notebooks > azureml > python folder and open the notebook.\n"
   ]
  },
  {
   "cell_type": "code",
   "execution_count": null,
   "metadata": {
    "collapsed": false
   },
   "outputs": [],
   "source": [
    "# Read in the digits dataset\n",
    "from sklearn import datasets\n",
    "digits = datasets.load_digits()\n",
    "print(digits.data)"
   ]
  },
  {
   "cell_type": "markdown",
   "metadata": {},
   "source": [
    "## Train your model\n",
    "\n",
    "The task is to predict which digit an image represents in the digits dataset. There are samples of each of the 10 possible classes (the digits zero through nine) on which you *fit* an estimator to predict the classes to which unseen samples belong."
   ]
  },
  {
   "cell_type": "code",
   "execution_count": null,
   "metadata": {
    "collapsed": false
   },
   "outputs": [],
   "source": [
    "# Train an SVM classifier\n",
    "from sklearn import svm\n",
    "clf = svm.SVC(gamma=0.001, C=100.)\n",
    "clf.fit(digits.data[:-1], digits.target[:-1])"
   ]
  },
  {
   "cell_type": "code",
   "execution_count": null,
   "metadata": {
    "collapsed": false
   },
   "outputs": [],
   "source": [
    "# Predict new inputs\n",
    "clf.predict(digits.data[-1:])[0]"
   ]
  },
  {
   "cell_type": "markdown",
   "metadata": {},
   "source": [
    "### Save your model\n",
    "\n",
    "Once you have a model that performs well, you can package it into a scoring service. To prepare for this, save your model locally. You then use the Joblib library to pickle the model."
   ]
  },
  {
   "cell_type": "code",
   "execution_count": null,
   "metadata": {
    "collapsed": false
   },
   "outputs": [],
   "source": [
    "# Save model\n",
    "from sklearn.externals import joblib\n",
    "import os\n",
    "if not os.path.exists('sklearn'):\n",
    "    os.makedirs('sklearn')\n",
    "joblib.dump(clf, 'sklearn/model.pkl')\n",
    "print(\"Model saved\")"
   ]
  },
  {
   "cell_type": "markdown",
   "metadata": {},
   "source": [
    "## Authoring a Realtime Web Service\n",
    "\n",
    "In this section, you author a realtime web service that scores the model you saved above. \n",
    "\n",
    "### Define ```init``` and ```run```\n",
    "\n",
    "Start by defining your ```init``` and ```run``` functions in the cell below. \n",
    "\n",
    "The ```init``` function initializes the web service, loading in any data or models that it needs to score your inputs. In the example below, it loads in the trained model and the schema of your dataset.\n",
    "\n",
    "The ```run``` function defines what is executed on a scoring call. In this simple example, the service loads the json input as a data frame and runs the pipeline on the input."
   ]
  },
  {
   "cell_type": "code",
   "execution_count": null,
   "metadata": {
    "collapsed": false
   },
   "outputs": [],
   "source": [
    "#%%save_file -f skdigits.py\n",
    "# Prepare the web service definition by authoring\n",
    "# init() and run() functions. Once tested, remove\n",
    "# the commented magic on the first line to save\n",
    "# the cell to a file.\n",
    "def init():\n",
    "    # install sklearn if not already present\n",
    "    try:\n",
    "        import scipy\n",
    "        from sklearn.externals import joblib\n",
    "        import numpy\n",
    "    except ImportError:\n",
    "        import pip\n",
    "        pip_args = ['install', 'sklearn', 'scipy']\n",
    "        pip.main(pip_args)\n",
    "        \n",
    "        import scipy\n",
    "        from sklearn.externals import joblib\n",
    "        import numpy\n",
    "        \n",
    "    # read in the model file\n",
    "    from sklearn.externals import joblib\n",
    "    global model\n",
    "    model = joblib.load('sklearn/model.pkl')\n",
    "        \n",
    "def run(inputString):\n",
    "    import json\n",
    "    import numpy\n",
    "    try:\n",
    "        input_list=json.loads(inputString)\n",
    "    except ValueError:\n",
    "        return 'Bad input: expecting a json encoded list of lists.'\n",
    "    \n",
    "    input_array = numpy.array(input_list)\n",
    "    if (input_array.shape != (1, 64)):\n",
    "        return 'Bad input: Expecting a json encoded list of lists of shape (1,64).'\n",
    "    return model.predict(input_array)[0]\n"
   ]
  },
  {
   "cell_type": "markdown",
   "metadata": {},
   "source": [
    "### Test ```init``` and ```run```\n",
    "\n",
    "Before publishing the web service, you can test the init and run functions in the notebook by running the the following cell."
   ]
  },
  {
   "cell_type": "code",
   "execution_count": null,
   "metadata": {
    "collapsed": false
   },
   "outputs": [],
   "source": [
    "import json\n",
    "init()\n",
    "run(json.dumps(digits.data[-1:].tolist()))"
   ]
  },
  {
   "cell_type": "markdown",
   "metadata": {},
   "source": [
    "### Create a script that defines the web service\n",
    "\n",
    "Your goal is to create an endpoint that you can call to make predictions based on the input data. To create a web service using the model you saved, you start by authoring a script to do the scoring.\n",
    " \n",
    "In the script you identify the input parameters you want your web service to consume and the outputs it should produce. \n",
    "\n",
    "Go back to the cell where you defined your ```init``` and ```run``` functions, uncomment the magic in the first line (```#%%save_file -f skdigits.py```), and run the cell again. This saves the contents of the cell to a local file with the name supplied to the ```-f``` argument.\n",
    "\n",
    "\n",
    "### Use the Azure Machine Learning CLI to deploy and manage your web services\n",
    "\n",
    "SSH into the DSVM and run the following commands to deploy your service locally.\n",
    "\n",
    "Set the environment variables, either from the command line or from a script, that you generated when you setup your DSVM. \n",
    "\n",
    "Change to azureml folder containing the realtime notebook.\n",
    "\n",
    "```\n",
    "cd ~/notebooks/azureml/realtime\n",
    "```\n",
    "Next run the following commands to create the web service:\n",
    "\n",
    "```\n",
    "aml env local\n",
    "aml service create realtime -f skdigits.py -d sklearn -n skdigitsapp\n",
    "```\n",
    "\n",
    "To create and run the web service on the ACS cluster, change to the cluster mode and rerun the service creation command:\n",
    "\n",
    "```\n",
    "aml env cluster\n",
    "aml service create realtime -f skdigits.py -d sklearn -n skdigitsapp\n",
    "```\n",
    "\n",
    "To test the local web service, run the following command with a sample data input:\n",
    "\n",
    "```\n",
    "aml service run realtime -n skdigitsapp -d '{\"input\":\"[[0.0,0.0,10.0,14.0,8.0,1.0,0.0,0.0,0.0,2.0,16.0,14.0,6.0,1.0,0.0,0.0,0.0,0.0,15.0,15.0,8.0,15.0,0.0,0.0,0.0,0.0,5.0,16.0,16.0,10.0,0.0,0.0,0.0,0.0,12.0,15.0,15.0,12.0,0.0,0.0,0.0,4.0,16.0,6.0,4.0,16.0,6.0,0.0,0.0,8.0,16.0,10.0,8.0,16.0,8.0,0.0,0.0,1.0,8.0,12.0,14.0,12.0,1.0,0.0]]\"}'\n",
    "```"
   ]
  }
 ],
 "metadata": {
  "anaconda-cloud": {},
  "kernelspec": {
   "display_name": "Python 2",
   "language": "python",
   "name": "python2"
  },
  "language_info": {
   "codemirror_mode": {
    "name": "ipython",
    "version": 2
   },
   "file_extension": ".py",
   "mimetype": "text/x-python",
   "name": "python",
   "nbconvert_exporter": "python",
   "pygments_lexer": "ipython2",
   "version": "2.7.12"
  }
 },
 "nbformat": 4,
 "nbformat_minor": 1
}
